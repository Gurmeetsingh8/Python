{
 "cells": [
  {
   "cell_type": "code",
   "execution_count": 5,
   "metadata": {},
   "outputs": [
    {
     "name": "stdout",
     "output_type": "stream",
     "text": [
      "[1, 2, 4, 5, 6, 'Hello']\n",
      "[2]\n",
      "[4, 5, 6, 'Hello']\n",
      "[1, 2, 4, 5]\n",
      "[1, 2, 4, 5, 6, 'Hello']\n",
      "<class 'dict'>\n",
      "100\n",
      "dict_keys(['mango', 'apple', 'banana'])\n",
      "dict_values([100, 120, [10, 20, 30]])\n",
      "1\n",
      "2\n",
      "3\n",
      "4\n",
      "5\n",
      "6\n",
      "7\n",
      "8\n",
      "9\n",
      "10\n",
      "yes\n"
     ]
    }
   ],
   "source": [
    "# Working with Lists\n",
    "a = [ 1,2,4,5,6,\"Hello\"]\n",
    "\n",
    "print (a)\n",
    "\n",
    "# Slicing in Lists\n",
    "print (a[1:2])\n",
    "print (a[2:])\n",
    "print (a[:4])\n",
    "print (a[:])\n",
    "\n",
    "# Dictionaries in Python ( Hashmaps in C++, JSON in javascript)\n",
    "prices = {\n",
    "    \"mango\":100,\n",
    "    \"apple\":120,\n",
    "    \"banana\":[10,20,30]\n",
    "}\n",
    "\n",
    "print (type(prices))\n",
    "\n",
    "print (prices[\"mango\"])\n",
    "\n",
    "#Iterate over all the keys\n",
    "print (prices.keys())\n",
    "print (prices.values())\n",
    "\n",
    "# Loops\n",
    "i = 1\n",
    "while i<=10:\n",
    "    print (i)\n",
    "    i += 1\n",
    "    \n",
    "# Range Fn (s,e,jump)\n",
    "range(1,10,2)\n",
    "\n",
    "x = \"Python\"\n",
    "if x==\"Python\":\n",
    "    print (\"yes\")\n",
    "else:\n",
    "    print (\"no\")\n"
   ]
  },
  {
   "cell_type": "code",
   "execution_count": 6,
   "metadata": {},
   "outputs": [
    {
     "name": "stdout",
     "output_type": "stream",
     "text": [
      "[5, 4, 3, 2, 1]\n"
     ]
    }
   ],
   "source": [
    "# Sorting in Lists\n",
    "a = [5,4,3,1,2]\n",
    "\n",
    "a = sorted(a,reverse=True)\n",
    "print (a)\n"
   ]
  },
  {
   "cell_type": "markdown",
   "metadata": {},
   "source": [
    "### Scientific Computation"
   ]
  },
  {
   "cell_type": "code",
   "execution_count": 7,
   "metadata": {},
   "outputs": [],
   "source": [
    "import numpy as np\n",
    "from matplotlib import pyplot as plt\n",
    "%matplotlib inline"
   ]
  },
  {
   "cell_type": "code",
   "execution_count": 8,
   "metadata": {},
   "outputs": [
    {
     "name": "stdout",
     "output_type": "stream",
     "text": [
      "<class 'numpy.ndarray'>\n"
     ]
    }
   ],
   "source": [
    "# Numpy which is library acutally written in C and Python Interface\n",
    "# Arrays in Numpy\n",
    "\n",
    "arr = np.array([1,2,3,4])\n",
    "# it is of fixed size, it is not dynanimc \n",
    "print (type(arr))"
   ]
  },
  {
   "cell_type": "code",
   "execution_count": 10,
   "metadata": {},
   "outputs": [
    {
     "name": "stdout",
     "output_type": "stream",
     "text": [
      "[[0. 0. 0. 0.]\n",
      " [0. 0. 0. 0.]\n",
      " [0. 0. 0. 0.]\n",
      " [0. 0. 0. 0.]]\n",
      "[[2. 0. 0. 0.]\n",
      " [3. 3. 3. 3.]\n",
      " [2. 0. 0. 0.]\n",
      " [2. 0. 0. 0.]]\n"
     ]
    }
   ],
   "source": [
    "# 2-D arrays in Numpy\n",
    "\n",
    "a = np.zeros((4,4))\n",
    "print (a)\n",
    "\n",
    "a[ : ,0] = 2\n",
    "a[1, :] = 3\n",
    "print (a)"
   ]
  },
  {
   "cell_type": "code",
   "execution_count": 11,
   "metadata": {},
   "outputs": [
    {
     "name": "stdout",
     "output_type": "stream",
     "text": [
      "(array([1, 2, 3, 4, 5, 7]), array([2, 2, 2, 1, 1, 3]))\n",
      "7\n"
     ]
    }
   ],
   "source": [
    "# Unique and Argmax Functions\n",
    "arr = np.asarray([1,2,3,5,3,7,4,2,1,7,7])\n",
    "\n",
    "b = np.unique(arr,return_counts=True)\n",
    "print (b)\n",
    "index = b[1].argmax()\n",
    "print (b[0][index])"
   ]
  },
  {
   "cell_type": "markdown",
   "metadata": {},
   "source": [
    "### Plotting Graphs using Matplot Lib\n"
   ]
  },
  {
   "cell_type": "code",
   "execution_count": 15,
   "metadata": {},
   "outputs": [
    {
     "name": "stderr",
     "output_type": "stream",
     "text": [
      "E:\\anaconda\\lib\\site-packages\\matplotlib\\cbook\\deprecation.py:107: MatplotlibDeprecationWarning: Passing one of 'on', 'true', 'off', 'false' as a boolean is deprecated; use an actual boolean (True/False) instead.\n",
      "  warnings.warn(message, mplDeprecation, stacklevel=1)\n"
     ]
    },
    {
     "data": {
      "image/png": "[encoded data removed]",
      "text/plain": [
       "<Figure size 432x288 with 1 Axes>"
      ]
     },
     "metadata": {},
     "output_type": "display_data"
    },
    {
     "data": {
      "image/png": "[encoded data removed]",
      "text/plain": [
       "<Figure size 432x288 with 1 Axes>"
      ]
     },
     "metadata": {},
     "output_type": "display_data"
    }
   ],
   "source": [
    "\n",
    "a = np.asarray(range(100))\n",
    "\n",
    "plt.figure(0)\n",
    "plt.plot(a)\n",
    "plt.grid('on')\n",
    "plt.figure(1)\n",
    "plt.grid('on')\n",
    "plt.plot(a**2,color='green')\n",
    "plt.plot(a**3,color='red')\n",
    "\n",
    "plt.show()"
   ]
  },
  {
   "cell_type": "code",
   "execution_count": 17,
   "metadata": {},
   "outputs": [
    {
     "name": "stdout",
     "output_type": "stream",
     "text": [
      "(100, 2)\n",
      "[[7.54220753e-01 6.24686139e-01]\n",
      " [3.41458611e-01 7.43364215e-01]\n",
      " [9.45066557e-01 1.87952472e-01]\n",
      " [2.52768049e-01 3.27524385e-01]\n",
      " [7.19598744e-01 5.12784906e-01]\n",
      " [7.01315788e-01 4.36493481e-01]\n",
      " [7.47447236e-01 2.49949223e-02]\n",
      " [1.08201040e-01 3.17146231e-01]\n",
      " [1.27827533e-01 1.19462618e-01]\n",
      " [3.93485091e-01 9.36218939e-01]\n",
      " [8.05012779e-01 1.52130463e-01]\n",
      " [9.58046308e-01 2.82792027e-01]\n",
      " [6.29882184e-01 4.77488443e-01]\n",
      " [5.66682670e-02 9.78914145e-01]\n",
      " [3.45801914e-02 7.48147593e-01]\n",
      " [7.56699709e-01 4.28488047e-01]\n",
      " [8.79330162e-03 2.55987053e-01]\n",
      " [2.72650674e-01 6.28030528e-01]\n",
      " [8.19920903e-01 6.08348215e-01]\n",
      " [6.35094053e-01 8.66363731e-01]\n",
      " [5.81159694e-01 7.63381292e-01]\n",
      " [1.35936344e-01 6.82600759e-01]\n",
      " [2.80940882e-01 8.11026018e-01]\n",
      " [6.95266884e-01 9.13156118e-01]\n",
      " [2.69322192e-01 9.38100693e-01]\n",
      " [9.51999449e-01 5.10104033e-01]\n",
      " [1.29258750e-01 6.30354682e-01]\n",
      " [2.91086253e-01 5.60560868e-01]\n",
      " [1.07402394e-01 9.40213531e-01]\n",
      " [1.16649092e-01 5.68971244e-01]\n",
      " [7.95312790e-01 1.12384626e-01]\n",
      " [9.72861742e-01 9.97077260e-01]\n",
      " [9.23155104e-01 4.22673672e-01]\n",
      " [5.29190354e-01 7.59975838e-01]\n",
      " [3.68409887e-01 2.09099932e-02]\n",
      " [6.33883713e-02 2.39586579e-01]\n",
      " [3.97805663e-01 5.17635790e-01]\n",
      " [5.56143600e-01 6.86965495e-01]\n",
      " [6.91723992e-01 8.24023473e-01]\n",
      " [1.60391514e-01 6.66799285e-01]\n",
      " [3.12071733e-01 6.10965080e-01]\n",
      " [1.68805818e-01 1.64902702e-01]\n",
      " [6.13738458e-01 7.30703381e-01]\n",
      " [4.66320604e-01 9.20765242e-01]\n",
      " [7.12081991e-01 8.33306220e-01]\n",
      " [9.69610310e-01 5.37498535e-01]\n",
      " [4.21248996e-01 8.83846365e-01]\n",
      " [1.38726444e-01 9.78034074e-01]\n",
      " [9.72574160e-01 8.75842847e-01]\n",
      " [9.61154632e-01 5.93044970e-01]\n",
      " [1.68894496e-02 7.33792602e-01]\n",
      " [8.60145587e-01 9.85940588e-02]\n",
      " [7.74518058e-01 9.56700119e-01]\n",
      " [8.93582161e-01 4.79687030e-02]\n",
      " [3.18852581e-02 8.32883471e-01]\n",
      " [8.68057200e-01 2.62573991e-01]\n",
      " [6.91740306e-01 8.28090524e-01]\n",
      " [4.44147647e-01 5.74762605e-01]\n",
      " [9.24456575e-01 1.27373934e-02]\n",
      " [5.66485106e-01 3.75923585e-01]\n",
      " [7.45308139e-02 7.35077157e-02]\n",
      " [8.54846443e-01 9.28666301e-01]\n",
      " [1.84565130e-01 7.39226671e-01]\n",
      " [5.88818202e-01 1.42474233e-01]\n",
      " [5.57649631e-01 7.50231072e-02]\n",
      " [5.46807808e-01 2.90717776e-01]\n",
      " [5.17434467e-01 7.55203830e-01]\n",
      " [1.84932534e-02 3.74427568e-01]\n",
      " [1.70954204e-01 9.75495630e-01]\n",
      " [1.63409907e-01 2.74055224e-02]\n",
      " [4.31946817e-01 3.85565382e-01]\n",
      " [6.27147500e-01 1.43392107e-01]\n",
      " [4.60816250e-01 9.95781823e-03]\n",
      " [6.28263372e-01 6.18490569e-01]\n",
      " [1.28592025e-01 7.09754624e-01]\n",
      " [5.07031574e-01 8.84396366e-02]\n",
      " [7.36415676e-01 2.69485471e-01]\n",
      " [6.75755297e-01 7.86682610e-01]\n",
      " [9.89937102e-01 6.42612394e-01]\n",
      " [1.92363621e-01 2.44154607e-01]\n",
      " [7.74265427e-01 6.31391424e-01]\n",
      " [3.27518818e-01 4.88653478e-01]\n",
      " [8.04519300e-01 7.63858858e-01]\n",
      " [3.25922267e-01 6.94302548e-01]\n",
      " [6.98964800e-01 9.08075282e-01]\n",
      " [3.07858658e-01 4.83811214e-01]\n",
      " [3.92544228e-01 4.21688359e-01]\n",
      " [4.92489266e-01 4.09901504e-01]\n",
      " [1.23257792e-01 3.66981753e-01]\n",
      " [2.39878748e-01 1.81469250e-01]\n",
      " [2.32012779e-01 5.35665066e-01]\n",
      " [8.48446615e-01 6.80420586e-01]\n",
      " [7.09926757e-01 2.40410539e-04]\n",
      " [7.29353001e-01 5.96439064e-01]\n",
      " [8.71678235e-01 1.76678381e-01]\n",
      " [4.26176708e-01 5.27722997e-02]\n",
      " [7.48469218e-01 7.38081084e-01]\n",
      " [4.65238528e-01 4.00790677e-01]\n",
      " [1.68165064e-01 5.92002111e-01]\n",
      " [1.30242758e-01 9.76861311e-01]]\n"
     ]
    },
    {
     "data": {
      "text/plain": [
       "<function matplotlib.pyplot.show(*args, **kw)>"
      ]
     },
     "execution_count": 17,
     "metadata": {},
     "output_type": "execute_result"
    },
    {
     "data": {
      "image/png": "[encoded data removed]",
      "text/plain": [
       "<Figure size 432x288 with 1 Axes>"
      ]
     },
     "metadata": {},
     "output_type": "display_data"
    }
   ],
   "source": [
    "# Scatter Plots\n",
    "\n",
    "# Random Values in the Range 0 and 1\n",
    "arr = np.random.random((100,2)) \n",
    "print (arr.shape)\n",
    "\n",
    "print (arr)\n",
    "plt.figure(0)\n",
    "# First Paramenter ix X Coordinate, Second Paratmeter is Y\n",
    "plt.scatter(arr[:,0],arr[:,1],color='yellow')\n",
    "plt.show\n",
    "# We are using the Scatter Plot"
   ]
  },
  {
   "cell_type": "code",
   "execution_count": null,
   "metadata": {},
   "outputs": [],
   "source": []
  }
 ],
 "metadata": {
  "kernelspec": {
   "display_name": "Python 3",
   "language": "python",
   "name": "python3"
  },
  "language_info": {
   "codemirror_mode": {
    "name": "ipython",
    "version": 3
   },
   "file_extension": ".py",
   "mimetype": "text/x-python",
   "name": "python",
   "nbconvert_exporter": "python",
   "pygments_lexer": "ipython3",
   "version": "3.6.5"
  }
 },
 "nbformat": 4,
 "nbformat_minor": 2
}
